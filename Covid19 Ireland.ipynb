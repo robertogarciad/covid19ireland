{
 "cells": [
  {
   "cell_type": "code",
   "execution_count": 15,
   "metadata": {},
   "outputs": [
    {
     "data": {
      "text/html": [
       "<div>\n",
       "<style scoped>\n",
       "    .dataframe tbody tr th:only-of-type {\n",
       "        vertical-align: middle;\n",
       "    }\n",
       "\n",
       "    .dataframe tbody tr th {\n",
       "        vertical-align: top;\n",
       "    }\n",
       "\n",
       "    .dataframe thead th {\n",
       "        text-align: right;\n",
       "    }\n",
       "</style>\n",
       "<table border=\"1\" class=\"dataframe\">\n",
       "  <thead>\n",
       "    <tr style=\"text-align: right;\">\n",
       "      <th></th>\n",
       "      <th>OBJECTID</th>\n",
       "      <th>ORIGID</th>\n",
       "      <th>CountyName</th>\n",
       "      <th>PopulationCensus16</th>\n",
       "      <th>TimeStamp</th>\n",
       "      <th>IGEasting</th>\n",
       "      <th>IGNorthing</th>\n",
       "      <th>Lat</th>\n",
       "      <th>Long</th>\n",
       "      <th>UGI</th>\n",
       "      <th>ConfirmedCovidCases</th>\n",
       "      <th>PopulationProportionCovidCases</th>\n",
       "      <th>ConfirmedCovidDeaths</th>\n",
       "      <th>ConfirmedCovidRecovered</th>\n",
       "      <th>Shape__Area</th>\n",
       "      <th>Shape__Length</th>\n",
       "    </tr>\n",
       "  </thead>\n",
       "  <tbody>\n",
       "    <tr>\n",
       "      <th>0</th>\n",
       "      <td>1</td>\n",
       "      <td>1</td>\n",
       "      <td>Carlow</td>\n",
       "      <td>56932</td>\n",
       "      <td>2020/02/27 00:00:00+00</td>\n",
       "      <td>278661</td>\n",
       "      <td>163444</td>\n",
       "      <td>52.7168</td>\n",
       "      <td>-6.8367</td>\n",
       "      <td>http://data.geohive.ie/resource/county/2ae1962...</td>\n",
       "      <td>0</td>\n",
       "      <td>NaN</td>\n",
       "      <td>NaN</td>\n",
       "      <td>NaN</td>\n",
       "      <td>2.432352e+09</td>\n",
       "      <td>3.193486e+05</td>\n",
       "    </tr>\n",
       "    <tr>\n",
       "      <th>1</th>\n",
       "      <td>2</td>\n",
       "      <td>2</td>\n",
       "      <td>Cavan</td>\n",
       "      <td>76176</td>\n",
       "      <td>2020/02/27 00:00:00+00</td>\n",
       "      <td>246380</td>\n",
       "      <td>304501</td>\n",
       "      <td>53.9878</td>\n",
       "      <td>-7.2937</td>\n",
       "      <td>http://data.geohive.ie/resource/county/2ae1962...</td>\n",
       "      <td>0</td>\n",
       "      <td>NaN</td>\n",
       "      <td>NaN</td>\n",
       "      <td>NaN</td>\n",
       "      <td>5.575010e+09</td>\n",
       "      <td>5.159545e+05</td>\n",
       "    </tr>\n",
       "    <tr>\n",
       "      <th>2</th>\n",
       "      <td>3</td>\n",
       "      <td>3</td>\n",
       "      <td>Clare</td>\n",
       "      <td>118817</td>\n",
       "      <td>2020/02/27 00:00:00+00</td>\n",
       "      <td>133493</td>\n",
       "      <td>182732</td>\n",
       "      <td>52.8917</td>\n",
       "      <td>-8.9889</td>\n",
       "      <td>http://data.geohive.ie/resource/county/2ae1962...</td>\n",
       "      <td>0</td>\n",
       "      <td>NaN</td>\n",
       "      <td>NaN</td>\n",
       "      <td>NaN</td>\n",
       "      <td>8.722542e+09</td>\n",
       "      <td>1.013949e+06</td>\n",
       "    </tr>\n",
       "    <tr>\n",
       "      <th>3</th>\n",
       "      <td>4</td>\n",
       "      <td>4</td>\n",
       "      <td>Cork</td>\n",
       "      <td>542868</td>\n",
       "      <td>2020/02/27 00:00:00+00</td>\n",
       "      <td>156242</td>\n",
       "      <td>77860</td>\n",
       "      <td>51.9517</td>\n",
       "      <td>-8.6372</td>\n",
       "      <td>http://data.geohive.ie/resource/county/2ae1962...</td>\n",
       "      <td>0</td>\n",
       "      <td>NaN</td>\n",
       "      <td>NaN</td>\n",
       "      <td>NaN</td>\n",
       "      <td>1.952949e+10</td>\n",
       "      <td>2.129949e+06</td>\n",
       "    </tr>\n",
       "    <tr>\n",
       "      <th>4</th>\n",
       "      <td>5</td>\n",
       "      <td>5</td>\n",
       "      <td>Donegal</td>\n",
       "      <td>159192</td>\n",
       "      <td>2020/02/27 00:00:00+00</td>\n",
       "      <td>202615</td>\n",
       "      <td>405691</td>\n",
       "      <td>54.8989</td>\n",
       "      <td>-7.9600</td>\n",
       "      <td>http://data.geohive.ie/resource/county/2ae1962...</td>\n",
       "      <td>0</td>\n",
       "      <td>NaN</td>\n",
       "      <td>NaN</td>\n",
       "      <td>NaN</td>\n",
       "      <td>1.462404e+10</td>\n",
       "      <td>2.145086e+06</td>\n",
       "    </tr>\n",
       "    <tr>\n",
       "      <th>...</th>\n",
       "      <td>...</td>\n",
       "      <td>...</td>\n",
       "      <td>...</td>\n",
       "      <td>...</td>\n",
       "      <td>...</td>\n",
       "      <td>...</td>\n",
       "      <td>...</td>\n",
       "      <td>...</td>\n",
       "      <td>...</td>\n",
       "      <td>...</td>\n",
       "      <td>...</td>\n",
       "      <td>...</td>\n",
       "      <td>...</td>\n",
       "      <td>...</td>\n",
       "      <td>...</td>\n",
       "      <td>...</td>\n",
       "    </tr>\n",
       "    <tr>\n",
       "      <th>7743</th>\n",
       "      <td>7744</td>\n",
       "      <td>22</td>\n",
       "      <td>Tipperary</td>\n",
       "      <td>159553</td>\n",
       "      <td>2020/12/22 00:00:00+00</td>\n",
       "      <td>205427</td>\n",
       "      <td>154345</td>\n",
       "      <td>52.6407</td>\n",
       "      <td>-7.9206</td>\n",
       "      <td>http://data.geohive.ie/resource/county/2ae1962...</td>\n",
       "      <td>1698</td>\n",
       "      <td>1064.223173</td>\n",
       "      <td>NaN</td>\n",
       "      <td>NaN</td>\n",
       "      <td>1.155120e+10</td>\n",
       "      <td>7.812766e+05</td>\n",
       "    </tr>\n",
       "    <tr>\n",
       "      <th>7744</th>\n",
       "      <td>7745</td>\n",
       "      <td>23</td>\n",
       "      <td>Waterford</td>\n",
       "      <td>116176</td>\n",
       "      <td>2020/12/22 00:00:00+00</td>\n",
       "      <td>234676</td>\n",
       "      <td>105809</td>\n",
       "      <td>52.2035</td>\n",
       "      <td>-7.4935</td>\n",
       "      <td>http://data.geohive.ie/resource/county/2ae1962...</td>\n",
       "      <td>1236</td>\n",
       "      <td>1063.903044</td>\n",
       "      <td>NaN</td>\n",
       "      <td>NaN</td>\n",
       "      <td>4.848380e+09</td>\n",
       "      <td>6.431849e+05</td>\n",
       "    </tr>\n",
       "    <tr>\n",
       "      <th>7745</th>\n",
       "      <td>7746</td>\n",
       "      <td>24</td>\n",
       "      <td>Westmeath</td>\n",
       "      <td>88770</td>\n",
       "      <td>2020/12/22 00:00:00+00</td>\n",
       "      <td>238362</td>\n",
       "      <td>255966</td>\n",
       "      <td>53.5524</td>\n",
       "      <td>-7.4219</td>\n",
       "      <td>http://data.geohive.ie/resource/county/2ae1962...</td>\n",
       "      <td>1590</td>\n",
       "      <td>1791.145657</td>\n",
       "      <td>NaN</td>\n",
       "      <td>NaN</td>\n",
       "      <td>5.208706e+09</td>\n",
       "      <td>4.226693e+05</td>\n",
       "    </tr>\n",
       "    <tr>\n",
       "      <th>7746</th>\n",
       "      <td>7747</td>\n",
       "      <td>25</td>\n",
       "      <td>Wexford</td>\n",
       "      <td>149722</td>\n",
       "      <td>2020/12/22 00:00:00+00</td>\n",
       "      <td>301627</td>\n",
       "      <td>141559</td>\n",
       "      <td>52.5164</td>\n",
       "      <td>-6.5037</td>\n",
       "      <td>http://data.geohive.ie/resource/county/2ae1962...</td>\n",
       "      <td>1613</td>\n",
       "      <td>1077.329985</td>\n",
       "      <td>NaN</td>\n",
       "      <td>NaN</td>\n",
       "      <td>6.332221e+09</td>\n",
       "      <td>5.893245e+05</td>\n",
       "    </tr>\n",
       "    <tr>\n",
       "      <th>7747</th>\n",
       "      <td>7748</td>\n",
       "      <td>26</td>\n",
       "      <td>Wicklow</td>\n",
       "      <td>142425</td>\n",
       "      <td>2020/12/22 00:00:00+00</td>\n",
       "      <td>311162</td>\n",
       "      <td>197894</td>\n",
       "      <td>53.0205</td>\n",
       "      <td>-6.3442</td>\n",
       "      <td>http://data.geohive.ie/resource/county/2ae1962...</td>\n",
       "      <td>1772</td>\n",
       "      <td>1244.163595</td>\n",
       "      <td>NaN</td>\n",
       "      <td>NaN</td>\n",
       "      <td>5.580729e+09</td>\n",
       "      <td>4.275392e+05</td>\n",
       "    </tr>\n",
       "  </tbody>\n",
       "</table>\n",
       "<p>7748 rows × 16 columns</p>\n",
       "</div>"
      ],
      "text/plain": [
       "      OBJECTID  ORIGID CountyName  PopulationCensus16               TimeStamp  \\\n",
       "0            1       1     Carlow               56932  2020/02/27 00:00:00+00   \n",
       "1            2       2      Cavan               76176  2020/02/27 00:00:00+00   \n",
       "2            3       3      Clare              118817  2020/02/27 00:00:00+00   \n",
       "3            4       4       Cork              542868  2020/02/27 00:00:00+00   \n",
       "4            5       5    Donegal              159192  2020/02/27 00:00:00+00   \n",
       "...        ...     ...        ...                 ...                     ...   \n",
       "7743      7744      22  Tipperary              159553  2020/12/22 00:00:00+00   \n",
       "7744      7745      23  Waterford              116176  2020/12/22 00:00:00+00   \n",
       "7745      7746      24  Westmeath               88770  2020/12/22 00:00:00+00   \n",
       "7746      7747      25    Wexford              149722  2020/12/22 00:00:00+00   \n",
       "7747      7748      26    Wicklow              142425  2020/12/22 00:00:00+00   \n",
       "\n",
       "      IGEasting  IGNorthing      Lat    Long  \\\n",
       "0        278661      163444  52.7168 -6.8367   \n",
       "1        246380      304501  53.9878 -7.2937   \n",
       "2        133493      182732  52.8917 -8.9889   \n",
       "3        156242       77860  51.9517 -8.6372   \n",
       "4        202615      405691  54.8989 -7.9600   \n",
       "...         ...         ...      ...     ...   \n",
       "7743     205427      154345  52.6407 -7.9206   \n",
       "7744     234676      105809  52.2035 -7.4935   \n",
       "7745     238362      255966  53.5524 -7.4219   \n",
       "7746     301627      141559  52.5164 -6.5037   \n",
       "7747     311162      197894  53.0205 -6.3442   \n",
       "\n",
       "                                                    UGI  ConfirmedCovidCases  \\\n",
       "0     http://data.geohive.ie/resource/county/2ae1962...                    0   \n",
       "1     http://data.geohive.ie/resource/county/2ae1962...                    0   \n",
       "2     http://data.geohive.ie/resource/county/2ae1962...                    0   \n",
       "3     http://data.geohive.ie/resource/county/2ae1962...                    0   \n",
       "4     http://data.geohive.ie/resource/county/2ae1962...                    0   \n",
       "...                                                 ...                  ...   \n",
       "7743  http://data.geohive.ie/resource/county/2ae1962...                 1698   \n",
       "7744  http://data.geohive.ie/resource/county/2ae1962...                 1236   \n",
       "7745  http://data.geohive.ie/resource/county/2ae1962...                 1590   \n",
       "7746  http://data.geohive.ie/resource/county/2ae1962...                 1613   \n",
       "7747  http://data.geohive.ie/resource/county/2ae1962...                 1772   \n",
       "\n",
       "      PopulationProportionCovidCases  ConfirmedCovidDeaths  \\\n",
       "0                                NaN                   NaN   \n",
       "1                                NaN                   NaN   \n",
       "2                                NaN                   NaN   \n",
       "3                                NaN                   NaN   \n",
       "4                                NaN                   NaN   \n",
       "...                              ...                   ...   \n",
       "7743                     1064.223173                   NaN   \n",
       "7744                     1063.903044                   NaN   \n",
       "7745                     1791.145657                   NaN   \n",
       "7746                     1077.329985                   NaN   \n",
       "7747                     1244.163595                   NaN   \n",
       "\n",
       "      ConfirmedCovidRecovered   Shape__Area  Shape__Length  \n",
       "0                         NaN  2.432352e+09   3.193486e+05  \n",
       "1                         NaN  5.575010e+09   5.159545e+05  \n",
       "2                         NaN  8.722542e+09   1.013949e+06  \n",
       "3                         NaN  1.952949e+10   2.129949e+06  \n",
       "4                         NaN  1.462404e+10   2.145086e+06  \n",
       "...                       ...           ...            ...  \n",
       "7743                      NaN  1.155120e+10   7.812766e+05  \n",
       "7744                      NaN  4.848380e+09   6.431849e+05  \n",
       "7745                      NaN  5.208706e+09   4.226693e+05  \n",
       "7746                      NaN  6.332221e+09   5.893245e+05  \n",
       "7747                      NaN  5.580729e+09   4.275392e+05  \n",
       "\n",
       "[7748 rows x 16 columns]"
      ]
     },
     "execution_count": 15,
     "metadata": {},
     "output_type": "execute_result"
    }
   ],
   "source": [
    "# Import pandas and read the csv file here\n",
    "import pandas as pd\n",
    "from pandas import *\n",
    "\n",
    "#Downloaded file should be in computer to be read.\n",
    "data = pd.read_csv('Covid19CountyStatisticsHPSCIreland.csv')\n",
    "\n",
    "#I am doing analysis for all counties in Ireland. Read confirmed cases by counties from 27th February to 22th December 2020\n",
    "data.head(7750)"
   ]
  },
  {
   "cell_type": "code",
   "execution_count": 5,
   "metadata": {},
   "outputs": [],
   "source": [
    "#imports for plotting.\n",
    "import matplotlib.pyplot as plt\n",
    "import seaborn as sns"
   ]
  },
  {
   "cell_type": "code",
   "execution_count": 6,
   "metadata": {},
   "outputs": [
    {
     "name": "stderr",
     "output_type": "stream",
     "text": [
      "<ipython-input-6-7c61b8aa610b>:1: FutureWarning: Indexing with multiple keys (implicitly converted to a tuple of keys) will be deprecated, use a list instead.\n",
      "  grouped_data = data.groupby('CountyName')['ConfirmedCovidCases', 'ConfirmedCovidDeaths', 'ConfirmedCovidRecovered'].sum().reset_index()\n"
     ]
    },
    {
     "data": {
      "text/plain": [
       "<AxesSubplot:xlabel='ConfirmedCovidCases', ylabel='CountyName'>"
      ]
     },
     "execution_count": 6,
     "metadata": {},
     "output_type": "execute_result"
    },
    {
     "data": {
      "image/png": "[encoded data removed]",
      "text/plain": [
       "<Figure size 936x504 with 1 Axes>"
      ]
     },
     "metadata": {
      "needs_background": "light"
     },
     "output_type": "display_data"
    }
   ],
   "source": [
    "grouped_data = data.groupby('CountyName')['ConfirmedCovidCases', 'ConfirmedCovidDeaths', 'ConfirmedCovidRecovered'].sum().reset_index()\n",
    "temp = grouped_data.sort_values(by='ConfirmedCovidCases', ascending=False)\n",
    "data = temp[['CountyName','ConfirmedCovidCases','ConfirmedCovidDeaths','ConfirmedCovidRecovered']]\n",
    "sns.set_color_codes(\"muted\")\n",
    "plt.subplots(figsize=(13,7))\n",
    "sns.barplot(x=\"ConfirmedCovidCases\", y=\"CountyName\", data=data,label=\"Total\", color=\"green\")"
   ]
  },
  {
   "cell_type": "code",
   "execution_count": 9,
   "metadata": {},
   "outputs": [
    {
     "data": {
      "text/plain": [
       "([<matplotlib.patches.Wedge at 0x7ff64736e940>,\n",
       "  <matplotlib.patches.Wedge at 0x7ff64736ee20>,\n",
       "  <matplotlib.patches.Wedge at 0x7ff64737d310>,\n",
       "  <matplotlib.patches.Wedge at 0x7ff64737d790>,\n",
       "  <matplotlib.patches.Wedge at 0x7ff64737dc70>,\n",
       "  <matplotlib.patches.Wedge at 0x7ff64738a130>,\n",
       "  <matplotlib.patches.Wedge at 0x7ff64738a5b0>,\n",
       "  <matplotlib.patches.Wedge at 0x7ff64738aa30>,\n",
       "  <matplotlib.patches.Wedge at 0x7ff64738aeb0>,\n",
       "  <matplotlib.patches.Wedge at 0x7ff647397370>,\n",
       "  <matplotlib.patches.Wedge at 0x7ff647351580>,\n",
       "  <matplotlib.patches.Wedge at 0x7ff647397c40>,\n",
       "  <matplotlib.patches.Wedge at 0x7ff6473a5100>,\n",
       "  <matplotlib.patches.Wedge at 0x7ff6473a5580>,\n",
       "  <matplotlib.patches.Wedge at 0x7ff6473a5a00>,\n",
       "  <matplotlib.patches.Wedge at 0x7ff6473a5e80>,\n",
       "  <matplotlib.patches.Wedge at 0x7ff6473b2340>,\n",
       "  <matplotlib.patches.Wedge at 0x7ff6473b27c0>,\n",
       "  <matplotlib.patches.Wedge at 0x7ff6473b2c40>,\n",
       "  <matplotlib.patches.Wedge at 0x7ff6473c0100>,\n",
       "  <matplotlib.patches.Wedge at 0x7ff6473c0580>,\n",
       "  <matplotlib.patches.Wedge at 0x7ff6473c0a00>,\n",
       "  <matplotlib.patches.Wedge at 0x7ff6473c0e80>,\n",
       "  <matplotlib.patches.Wedge at 0x7ff6473cc340>,\n",
       "  <matplotlib.patches.Wedge at 0x7ff6473cc7c0>,\n",
       "  <matplotlib.patches.Wedge at 0x7ff6473ccc40>],\n",
       " [Text(0.23942260214118943, 1.0736278766797842, 'Dublin'),\n",
       "  Text(-1.0756423159605635, 0.23020340595872052, 'Cork'),\n",
       "  Text(-1.0759702081092954, -0.22866593813080138, 'Kildare'),\n",
       "  Text(-0.9526742967520423, -0.5499197071464178, 'Meath'),\n",
       "  Text(-0.8099556677878326, -0.7442928296163858, 'Cavan'),\n",
       "  Text(-0.6512991285975775, -0.8864589359288091, 'Limerick'),\n",
       "  Text(-0.4726726265914519, -0.9932676316437268, 'Donegal'),\n",
       "  Text(-0.2815616442276703, -1.0633546165319503, 'Louth'),\n",
       "  Text(-0.08830888307541207, -1.0964495160152032, 'Galway'),\n",
       "  Text(0.09021916298515692, -1.0962939854939724, 'Wicklow'),\n",
       "  Text(0.2517089985711985, -1.0708139801283343, 'Westmeath'),\n",
       "  Text(0.39790823711392287, -1.0255091588264291, 'Tipperary'),\n",
       "  Text(0.5279734759693403, -0.965009849003031, 'Mayo'),\n",
       "  Text(0.6420726985260891, -0.8931644024519932, 'Monaghan'),\n",
       "  Text(0.7400482473668129, -0.8138357276313868, 'Offaly'),\n",
       "  Text(0.826071312213426, -0.7263650508786809, 'Clare'),\n",
       "  Text(0.8964384183016336, -0.6374936565902954, 'Kerry'),\n",
       "  Text(0.950351740940893, -0.5539237930353, 'Kilkenny'),\n",
       "  Text(0.9935576756934003, -0.4720626495188201, 'Wexford'),\n",
       "  Text(1.0284096927881792, -0.3903504883810485, 'Laois'),\n",
       "  Text(1.055914742731824, -0.3082921602661768, 'Roscommon'),\n",
       "  Text(1.0751429837536604, -0.23252433095329336, 'Waterford'),\n",
       "  Text(1.0875779851260485, -0.16484576509320645, 'Longford'),\n",
       "  Text(1.095052041178105, -0.10421625166770168, 'Carlow'),\n",
       "  Text(1.0988436824553103, -0.05042381905462547, 'Sligo'),\n",
       "  Text(1.0999352304601486, -0.01193686694989837, 'Leitrim')])"
      ]
     },
     "execution_count": 9,
     "metadata": {},
     "output_type": "execute_result"
    },
    {
     "data": {
      "image/png": "[encoded data removed]",
      "text/plain": [
       "<Figure size 1080x792 with 1 Axes>"
      ]
     },
     "metadata": {},
     "output_type": "display_data"
    }
   ],
   "source": [
    "x=temp['ConfirmedCovidCases']\n",
    "labels=temp['CountyName']\n",
    "plt.figure(figsize=(15,11))\n",
    "plt.title(\"Ireland's Covid-19 Data Analaysis Using Python\", fontsize=7)\n",
    "plt.pie(x,labels=labels)"
   ]
  },
  {
   "cell_type": "code",
   "execution_count": 16,
   "metadata": {},
   "outputs": [],
   "source": [
    "import psycopg2"
   ]
  },
  {
   "cell_type": "code",
   "execution_count": 17,
   "metadata": {},
   "outputs": [],
   "source": [
    "try:\n",
    "    dbConnection = psycopg2.connect(user = \"dap\",\n",
    "    password = \"dap\",\n",
    "    host = \"192.168.56.30\",\n",
    "    port = \"5432\",\n",
    "    database = \"postgres\")\n",
    "    dbConnection.set_isolation_level(0) # AUTOCOMMIT\n",
    "    dbCursor = dbConnection.cursor()\n",
    "    dbCursor.execute('CREATE DATABASE covid19Ireland;')\n",
    "    dbCursor.close()\n",
    "except (Exception , psycopg2.Error) as dbError :\n",
    "    print (\"Error while connecting to PostgreSQL\", dbError)\n",
    "finally:\n",
    "    if(dbConnection):\n",
    "        dbConnection.close()"
   ]
  },
  {
   "cell_type": "code",
   "execution_count": 26,
   "metadata": {},
   "outputs": [],
   "source": [
    "createString = \"\"\"\n",
    "CREATE TABLE covid19Ireland(\n",
    "date_time TimeStamp PRIMARY KEY,\n",
    "CountyName VARCHAR (20),\n",
    "PopulationCensus16 integer\n",
    ");\n",
    "\"\"\""
   ]
  },
  {
   "cell_type": "code",
   "execution_count": 33,
   "metadata": {
    "scrolled": false
   },
   "outputs": [],
   "source": [
    "SQL=\"\"\"SELECT CountyName AS CountyName* FROM Covid19Ireland\"\"\""
   ]
  },
  {
   "cell_type": "code",
   "execution_count": 30,
   "metadata": {},
   "outputs": [
    {
     "name": "stdout",
     "output_type": "stream",
     "text": [
      "Error while connecting to PostgreSQL FATAL:  database \"covid19Ireland\" does not exist\n",
      "\n"
     ]
    }
   ],
   "source": [
    "try:\n",
    "    dbConnection = psycopg2.connect(\n",
    "    user = \"dap\",\n",
    "    password = \"dap\",\n",
    "    host = \"192.168.56.30\",\n",
    "    port = \"5432\",\n",
    "    database = \"covid19Ireland\")\n",
    "    dbConnection.set_isolation_level(0) # AUTOCOMMIT\n",
    "    dbCursor = dbConnection.cursor()\n",
    "    dbCursor.execute(createString)\n",
    "    dbCursor.close()\n",
    "except (Exception , psycopg2.Error) as dbError :\n",
    "    print (\"Error while connecting to PostgreSQL\", dbError)\n",
    "finally:\n",
    "    if(dbConnection):\n",
    "        dbConnection.close()"
   ]
  },
  {
   "cell_type": "code",
   "execution_count": 21,
   "metadata": {},
   "outputs": [],
   "source": [
    "import csv"
   ]
  },
  {
   "cell_type": "code",
   "execution_count": 44,
   "metadata": {},
   "outputs": [
    {
     "name": "stdout",
     "output_type": "stream",
     "text": [
      "Error: FATAL:  database \"covid19Ireland\" does not exist\n",
      "\n"
     ]
    }
   ],
   "source": [
    "try:\n",
    "    dbConnection = psycopg2.connect(\n",
    "    user = \"dap\",\n",
    "    password = \"dap\",\n",
    "    host = \"192.168.56.30\",\n",
    "    port = \"5432\",\n",
    "    database = \"covid19Ireland\")\n",
    "    dbConnection.set_isolation_level(0) # AUTOCOMMIT\n",
    "    \n",
    "    dbCursor = dbConnection.cursor()\n",
    "    with open('Covid19CountyStatisticsHPSCIreland.csv', 'r') as f:\n",
    "        reader = csv.reader(f)\n",
    "        next(reader) # skip the header\n",
    "        for row in reader:\n",
    "            dbCursor.execute(insertString.format(*row))\n",
    "    dbCursor.close()\n",
    "except (Exception , psycopg2.Error) as dbError :\n",
    "    print (\"Error:\", dbError)\n",
    "finally:\n",
    "    if(dbConnection):\n",
    "        dbConnection.close()"
   ]
  },
  {
   "cell_type": "code",
   "execution_count": 31,
   "metadata": {},
   "outputs": [
    {
     "name": "stdout",
     "output_type": "stream",
     "text": [
      "Requirement already satisfied: pandas in /opt/anaconda3/envs/pospost_venv/lib/python3.8/site-packages (1.1.4)\n",
      "Requirement already satisfied: numpy>=1.15.4 in /opt/anaconda3/envs/pospost_venv/lib/python3.8/site-packages (from pandas) (1.19.4)\n",
      "Requirement already satisfied: pytz>=2017.2 in /opt/anaconda3/envs/pospost_venv/lib/python3.8/site-packages (from pandas) (2020.4)\n",
      "Requirement already satisfied: python-dateutil>=2.7.3 in /opt/anaconda3/envs/pospost_venv/lib/python3.8/site-packages (from pandas) (2.8.1)\n",
      "Requirement already satisfied: six>=1.5 in /opt/anaconda3/envs/pospost_venv/lib/python3.8/site-packages (from python-dateutil>=2.7.3->pandas) (1.15.0)\n"
     ]
    }
   ],
   "source": [
    "!pip install pandas"
   ]
  },
  {
   "cell_type": "code",
   "execution_count": 34,
   "metadata": {},
   "outputs": [
    {
     "name": "stdout",
     "output_type": "stream",
     "text": [
      "Requirement already satisfied: pymongo in /opt/anaconda3/envs/pospost_venv/lib/python3.8/site-packages (3.11.1)\r\n"
     ]
    }
   ],
   "source": [
    "!pip install pymongo\n"
   ]
  },
  {
   "cell_type": "code",
   "execution_count": 35,
   "metadata": {},
   "outputs": [],
   "source": [
    "#The default port for mongod and mongos instances is 27017\n",
    "from pymongo import MongoClient\n",
    "client = MongoClient('192.168.56.30', 27017)"
   ]
  },
  {
   "cell_type": "code",
   "execution_count": 42,
   "metadata": {},
   "outputs": [],
   "source": [
    "db = client.test_databasecovid19Ireland"
   ]
  },
  {
   "cell_type": "code",
   "execution_count": 43,
   "metadata": {},
   "outputs": [
    {
     "data": {
      "text/plain": [
       "Database(MongoClient(host=['192.168.56.30:27017'], document_class=dict, tz_aware=False, connect=True), 'test_databasecovid19Ireland')"
      ]
     },
     "execution_count": 43,
     "metadata": {},
     "output_type": "execute_result"
    }
   ],
   "source": [
    "db"
   ]
  },
  {
   "cell_type": "code",
   "execution_count": 37,
   "metadata": {},
   "outputs": [],
   "source": [
    "collection = db.test_collection"
   ]
  },
  {
   "cell_type": "code",
   "execution_count": 38,
   "metadata": {},
   "outputs": [],
   "source": [
    "import datetime\n",
    "post = {\"author\": \"Mike\",\n",
    "\"text\": \"My first blog post!\",\n",
    "\"tags\": [\"mongodb\", \"python\", \"pymongo\"],\n",
    "\"date\": datetime.datetime.utcnow()}"
   ]
  },
  {
   "cell_type": "code",
   "execution_count": 39,
   "metadata": {},
   "outputs": [
    {
     "data": {
      "text/plain": [
       "ObjectId('5fe736ec81fbf35e93fe01cf')"
      ]
     },
     "execution_count": 39,
     "metadata": {},
     "output_type": "execute_result"
    }
   ],
   "source": [
    "posts = db.posts\n",
    "post_id = posts.insert_one(post).inserted_id\n",
    "post_id"
   ]
  },
  {
   "cell_type": "code",
   "execution_count": null,
   "metadata": {},
   "outputs": [],
   "source": []
  }
 ],
 "metadata": {
  "kernelspec": {
   "display_name": "Python 3",
   "language": "python",
   "name": "python3"
  },
  "language_info": {
   "codemirror_mode": {
    "name": "ipython",
    "version": 3
   },
   "file_extension": ".py",
   "mimetype": "text/x-python",
   "name": "python",
   "nbconvert_exporter": "python",
   "pygments_lexer": "ipython3",
   "version": "3.8.5"
  }
 },
 "nbformat": 4,
 "nbformat_minor": 4
}
